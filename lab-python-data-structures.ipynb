{
 "cells": [
  {
   "cell_type": "markdown",
   "metadata": {
    "tags": []
   },
   "source": [
    "# Lab | Data Structures "
   ]
  },
  {
   "cell_type": "markdown",
   "metadata": {},
   "source": [
    "## Exercise: Managing Customer Orders\n",
    "\n",
    "As part of a business venture, you are starting an online store that sells various products. To ensure smooth operations, you need to develop a program that manages customer orders and inventory.\n",
    "\n",
    "Follow the steps below to complete the exercise:\n",
    "\n",
    "1. Define a list called `products` that contains the following items: \"t-shirt\", \"mug\", \"hat\", \"book\", \"keychain\".\n",
    "\n",
    "2. Create an empty dictionary called `inventory`.\n",
    "\n",
    "3. Ask the user to input the quantity of each product available in the inventory. Use the product names from the `products` list as keys in the `inventory` dictionary and assign the respective quantities as values.\n",
    "\n",
    "4. Create an empty set called `customer_orders`.\n",
    "\n",
    "5. Ask the user to input the name of three products that a customer wants to order (from those in the products list, meaning three products out of \"t-shirt\", \"mug\", \"hat\", \"book\" or \"keychain\". Add each product name to the `customer_orders` set.\n",
    "\n",
    "6. Print the products in the `customer_orders` set.\n",
    "\n",
    "7. Calculate the following order statistics:\n",
    "   - Total Products Ordered: The total number of products in the `customer_orders` set.\n",
    "   - Percentage of Products Ordered: The percentage of products ordered compared to the total available products.\n",
    "   \n",
    "   Store these statistics in a tuple called `order_status`.\n",
    "\n",
    "8. Print the order statistics using the following format:\n",
    "   ```\n",
    "   Order Statistics:\n",
    "   Total Products Ordered: <total_products_ordered>\n",
    "   Percentage of Products Ordered: <percentage_ordered>% \n",
    "   ```\n",
    "\n",
    "9. Update the inventory by subtracting 1 from the quantity of each product. Modify the `inventory` dictionary accordingly.\n",
    "\n",
    "10. Print the updated inventory, displaying the quantity of each product on separate lines.\n",
    "\n",
    "Solve the exercise by implementing the steps using the Python concepts of lists, dictionaries, sets, and basic input/output operations. "
   ]
  },
  {
   "cell_type": "code",
   "execution_count": 1,
   "metadata": {},
   "outputs": [],
   "source": [
    "#Define a list called products.\n",
    "products = [\"t-shirt\", \"mug\", \"hat\", \"book\", \"keychain\"]\n",
    "#Create a dictionary called inventory.\n",
    "inventory = {}\n"
   ]
  },
  {
   "cell_type": "code",
   "execution_count": 24,
   "metadata": {},
   "outputs": [
    {
     "name": "stdout",
     "output_type": "stream",
     "text": [
      "{'t-shirt': 5, 'mug': 6, 'hat': 4, 'book': 7, 'keychain': 2}\n"
     ]
    }
   ],
   "source": [
    "#Ask the user for the amount of each product.\n",
    "for product in products:\n",
    "    quantity = int(input(f\"Indicate the quantity of {product}: \"))\n",
    "    inventory[product] = quantity\n"
   ]
  },
  {
   "cell_type": "code",
   "execution_count": 12,
   "metadata": {},
   "outputs": [
    {
     "name": "stdout",
     "output_type": "stream",
     "text": [
      "Customer order: {'hat', 'book', 'mug'}\n"
     ]
    }
   ],
   "source": [
    "#Create a set called customer_orders\n",
    "customer_orders = set()\n",
    "\n",
    "#Ask the user to input an order from the options available\n",
    "for i in range(3):\n",
    "    order = input(\"Input a product the costumer want to order:\").lower()\n",
    "    while order not in products:\n",
    "        order = input(f\"This option doesn't seem to be available. Please choose from {products}\").lower()\n",
    "    customer_orders.add(order)\n",
    "\n",
    "#Print customers order\n",
    "print(\"Customer order:\", customer_orders)\n",
    "        "
   ]
  },
  {
   "cell_type": "code",
   "execution_count": 27,
   "metadata": {},
   "outputs": [],
   "source": [
    "#Calculate total number of products ordered\n",
    "\n",
    "amount_ordered = 0\n",
    "for object in customer_orders:\n",
    "    amount_ordered += 1\n",
    "\n",
    "#Calculate percentage ordered compared to inventory\n",
    "\n",
    "amount_inventory = 0\n",
    "for value in inventory.values():\n",
    "    amount_inventory += value\n",
    "\n",
    "percentage_ordered = amount_ordered*100/amount_inventory\n",
    "\n",
    "#Create a tuple called order_status\n",
    "order_status = (amount_ordered, percentage_ordered)"
   ]
  },
  {
   "cell_type": "code",
   "execution_count": 32,
   "metadata": {},
   "outputs": [
    {
     "name": "stdout",
     "output_type": "stream",
     "text": [
      "Order Statistics:\n",
      "Total Products Ordered: 3\n",
      "Percentage of Products Ordered: 12.5%\n"
     ]
    }
   ],
   "source": [
    "#Print the order statistics using the following format:\n",
    "\n",
    "print(f\"Order Statistics:\\nTotal Products Ordered: {amount_ordered}\\nPercentage of Products Ordered: {percentage_ordered}%\")"
   ]
  },
  {
   "cell_type": "code",
   "execution_count": 45,
   "metadata": {},
   "outputs": [
    {
     "name": "stdout",
     "output_type": "stream",
     "text": [
      "{'t-shirt': 5, 'mug': 5, 'hat': 3, 'book': 6, 'keychain': 2}\n"
     ]
    }
   ],
   "source": [
    "#Update the inventory by substracting one of each product ordered\n",
    "\n",
    "for product in customer_orders:\n",
    "    if product in inventory:\n",
    "        inventory[product] -= 1\n",
    "\n"
   ]
  },
  {
   "cell_type": "code",
   "execution_count": 48,
   "metadata": {},
   "outputs": [
    {
     "name": "stdout",
     "output_type": "stream",
     "text": [
      "UPDATED INVENTORY\n",
      "t-shirt: 5\n",
      "mug: 5\n",
      "hat: 3\n",
      "book: 6\n",
      "keychain: 2\n"
     ]
    }
   ],
   "source": [
    "#Print inventory each product in new line\n",
    "\n",
    "print(\"UPDATED INVENTORY\")\n",
    "for product, quantity in inventory.items():\n",
    "    print(f\"{product}: {quantity}\")"
   ]
  }
 ],
 "metadata": {
  "kernelspec": {
   "display_name": "Python 3 (ipykernel)",
   "language": "python",
   "name": "python3"
  },
  "language_info": {
   "codemirror_mode": {
    "name": "ipython",
    "version": 3
   },
   "file_extension": ".py",
   "mimetype": "text/x-python",
   "name": "python",
   "nbconvert_exporter": "python",
   "pygments_lexer": "ipython3",
   "version": "3.12.6"
  }
 },
 "nbformat": 4,
 "nbformat_minor": 4
}
